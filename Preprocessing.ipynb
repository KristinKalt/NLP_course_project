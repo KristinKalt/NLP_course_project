{
 "cells": [
  {
   "cell_type": "code",
   "execution_count": 85,
   "id": "e3e4c36e",
   "metadata": {},
   "outputs": [],
   "source": [
    "from datasets import load_dataset\n",
    "import numpy as np\n",
    "import pandas as pd\n",
    "from nltk.tokenize import word_tokenize\n",
    "from nltk import tokenize\n",
    "from nltk.corpus import stopwords\n",
    "import re\n",
    "from sudachipy import tokenizer\n",
    "from sudachipy import dictionary\n",
    "import string"
   ]
  },
  {
   "cell_type": "markdown",
   "id": "a8bc98e5",
   "metadata": {},
   "source": [
    "## Load data set into pandas DataFrame"
   ]
  },
  {
   "cell_type": "code",
   "execution_count": 31,
   "id": "b2a6b5d2",
   "metadata": {},
   "outputs": [
    {
     "name": "stderr",
     "output_type": "stream",
     "text": [
      "Using custom data configuration copenlu--nlp_course_tydiqa-cceecfb5416d988a\n",
      "Found cached dataset parquet (/Users/dpr577/.cache/huggingface/datasets/copenlu___parquet/copenlu--nlp_course_tydiqa-cceecfb5416d988a/0.0.0/2a3b91fbd88a2c90d1dbbb32b460cf621d31bd5b05b934492fdef7d8d6f236ec)\n"
     ]
    },
    {
     "data": {
      "application/vnd.jupyter.widget-view+json": {
       "model_id": "ac50388b872c4e3f88da015177f565a3",
       "version_major": 2,
       "version_minor": 0
      },
      "text/plain": [
       "  0%|          | 0/2 [00:00<?, ?it/s]"
      ]
     },
     "metadata": {},
     "output_type": "display_data"
    },
    {
     "data": {
      "text/plain": [
       "29868"
      ]
     },
     "execution_count": 31,
     "metadata": {},
     "output_type": "execute_result"
    }
   ],
   "source": [
    "dataset = load_dataset(\"copenlu/answerable_tydiqa\")\n",
    "train_set = dataset[\"train\"]\n",
    "validation_set = dataset[\"validation\"]\n",
    "\n",
    "df_val = pd.DataFrame(validation_set)\n",
    "df_val = df_val[df_val.language.isin(['finnish', 'english', 'japanese'])]\n",
    "\n",
    "df_train = pd.DataFrame(train_set)\n",
    "df_train = df_train[df_train.language.isin(['finnish', 'english', 'japanese'])]\n",
    "len(df_train)"
   ]
  },
  {
   "cell_type": "markdown",
   "id": "e1e1a38c",
   "metadata": {},
   "source": [
    "## 1.1 Preprocessing and Dataset Analysis"
   ]
  },
  {
   "cell_type": "code",
   "execution_count": 32,
   "id": "a2e46d29",
   "metadata": {},
   "outputs": [],
   "source": [
    "def get_lang_df(df, language):\n",
    "    return df[df['language'] == language]\n",
    "\n",
    "df_train_FI = get_lang_df(df_train, 'finnish').copy()\n",
    "df_train_JAP = get_lang_df(df_train, 'japanese').copy()\n",
    "df_train_EN = get_lang_df(df_train, 'english').copy()"
   ]
  },
  {
   "cell_type": "code",
   "execution_count": 89,
   "id": "c066a03b",
   "metadata": {},
   "outputs": [],
   "source": [
    "def clean_text(text):\n",
    "    return \"\".join([char.lower() for char in text if char not in string.punctuation]) \n",
    "\n",
    "def remove_stopwords(tokens):\n",
    "    stop_words = set(stopwords.words('english'))\n",
    "    return [w for w in tokens if not w in stop_words]\n",
    "\n",
    "def tokenize_EN(df, col: str):\n",
    "    df[col+'tokens'] = df[col].apply(word_tokenize)\n",
    "    df[col+'tokens_cleaned'] = df[col].apply(clean_text)\n",
    "    df[col+'tokens_cleaned'] = df[col+'tokens_cleaned'].apply(word_tokenize)\n",
    "    df[col+'tokens_cleaned'] = df[col+'tokens_cleaned'].apply(remove_stopwords)\n",
    "\n",
    "def tokenize_FI(df):\n",
    "    df['tokens'] = df['question_text'].apply(word_tokenize, language='finnish')\n",
    "\n",
    "def helper_func_JAP(question):\n",
    "    tokenizer_obj = dictionary.Dictionary().create()\n",
    "    res_list = tokenizer_obj.tokenize(question)\n",
    "    return [x.surface() for x in res_list]\n",
    "\n",
    "def tokenize_JAP(df):\n",
    "    df['tokens'] = df['question_text'].apply(helper_func_JAP)\n",
    "\n",
    "\n",
    "tokenize_EN(df_train_EN, 'question_text')\n",
    "#tokenize_FI(df_train_FI)\n",
    "#tokenize_JAP(df_train_JAP)\n"
   ]
  },
  {
   "cell_type": "code",
   "execution_count": 18,
   "id": "421b05b4",
   "metadata": {},
   "outputs": [
    {
     "data": {
      "text/plain": [
       "['“', 'ダン', '”', ' ', 'ダニエル', '・', 'ジャドソン', '・', 'キャラハン', 'の', '出身', 'は', 'どこ']"
      ]
     },
     "execution_count": 18,
     "metadata": {},
     "output_type": "execute_result"
    }
   ],
   "source": [
    "test = \"“ダン” ダニエル・ジャドソン・キャラハンの出身はどこ\"\n",
    "helper_func_JAP(test)"
   ]
  },
  {
   "cell_type": "code",
   "execution_count": 34,
   "id": "1473ab00",
   "metadata": {},
   "outputs": [
    {
     "data": {
      "text/plain": [
       "born           342\n",
       "founded        204\n",
       "die            122\n",
       "have           104\n",
       "formed         100\n",
       "established     96\n",
       "air             82\n",
       "released        80\n",
       "live            76\n",
       "introduced      72\n",
       "Name: last_token, dtype: int64"
      ]
     },
     "execution_count": 34,
     "metadata": {},
     "output_type": "execute_result"
    }
   ],
   "source": [
    "def get_most_common_first_n_tokens(df, n):\n",
    "    df['first_token'] = df['tokens'].apply(lambda x: x[0])\n",
    "    return df.first_token.value_counts()[:n]\n",
    "\n",
    "def get_most_common_last_n_tokens(df, n):\n",
    "    df['last_token'] = df['tokens'].apply(lambda x: x[-1] if x[-1].isalpha() else x[-2])\n",
    "    return df.last_token.value_counts()[:n]\n",
    "\n",
    "#For English\n",
    "df_res = get_most_common_first_n_tokens(df_train_EN, 10)\n",
    "get_most_common_last_n_tokens(df_train_EN, 10)"
   ]
  },
  {
   "cell_type": "code",
   "execution_count": 35,
   "id": "c55c15fc",
   "metadata": {},
   "outputs": [
    {
     "data": {
      "text/plain": [
       "syntyi          1072\n",
       "on               723\n",
       "kuoli            720\n",
       "tarkoittaa       488\n",
       "perustettu       476\n",
       "syntynyt         398\n",
       "oli              382\n",
       "perustettiin     351\n",
       "sijaitsee        258\n",
       "pinta-ala        214\n",
       "Name: last_token, dtype: int64"
      ]
     },
     "execution_count": 35,
     "metadata": {},
     "output_type": "execute_result"
    }
   ],
   "source": [
    "#Finnish\n",
    "get_most_common_first_n_tokens(df_train_FI, 10)\n",
    "get_most_common_last_n_tokens(df_train_FI, 10)"
   ]
  },
  {
   "cell_type": "code",
   "execution_count": 36,
   "id": "1ef7f15c",
   "metadata": {},
   "outputs": [
    {
     "name": "stderr",
     "output_type": "stream",
     "text": [
      "/var/folders/c9/z1y7t00n7bd8lm8r0r4sy2b40000gn/T/ipykernel_3860/2224523845.py:5: FutureWarning: In future versions `DataFrame.to_latex` is expected to utilise the base implementation of `Styler.to_latex` for formatting and rendering. The arguments signature may therefore change. It is recommended instead to use `DataFrame.style.to_latex` which also contains additional functionality.\n",
      "  res_JAP.to_latex()\n"
     ]
    },
    {
     "data": {
      "text/plain": [
       "'\\\\begin{tabular}{llrlr}\\n\\\\toprule\\n{} &        0 &    1 &   2 &     3 \\\\\\\\\\n\\\\midrule\\n0 &       日本 &  354 &   た &  2115 \\\\\\\\\\n1 &        『 &  306 &   か &  1305 \\\\\\\\\\n2 &       世界 &   94 &   何 &  1192 \\\\\\\\\\n3 &      ジョン &   58 &  いつ &   996 \\\\\\\\\\n4 &        第 &   56 &   は &   932 \\\\\\\\\\n5 &  アメリカ合衆国 &   54 &  どこ &   884 \\\\\\\\\\n6 &        「 &   50 &   誰 &   746 \\\\\\\\\\n7 &     アメリカ &   50 &  ある &   174 \\\\\\\\\\n8 &    ウィリアム &   44 &  だれ &    64 \\\\\\\\\\n9 &     ジョージ &   44 &  いる &    42 \\\\\\\\\\n\\\\bottomrule\\n\\\\end{tabular}\\n'"
      ]
     },
     "execution_count": 36,
     "metadata": {},
     "output_type": "execute_result"
    }
   ],
   "source": [
    "#Japanese\n",
    "res_JAP_first = get_most_common_first_n_tokens(df_train_JAP, 10).reset_index()\n",
    "res_JAP_last = get_most_common_last_n_tokens(df_train_JAP, 10).reset_index()\n",
    "res_JAP = pd.concat([res_JAP_first, res_JAP_last], ignore_index=True, axis=1)\n",
    "res_JAP.to_latex()\n",
    "\n"
   ]
  },
  {
   "cell_type": "markdown",
   "id": "e2edbbb3",
   "metadata": {},
   "source": [
    "## 1.2 Binary Question Classification"
   ]
  },
  {
   "cell_type": "code",
   "execution_count": 77,
   "id": "124b9942",
   "metadata": {},
   "outputs": [],
   "source": [
    "import torch\n",
    "import json\n",
    "from sklearn.feature_extraction.text import CountVectorizer"
   ]
  },
  {
   "cell_type": "code",
   "execution_count": 84,
   "id": "8b0173d7",
   "metadata": {},
   "outputs": [
    {
     "data": {
      "text/html": [
       "<div>\n",
       "<style scoped>\n",
       "    .dataframe tbody tr th:only-of-type {\n",
       "        vertical-align: middle;\n",
       "    }\n",
       "\n",
       "    .dataframe tbody tr th {\n",
       "        vertical-align: top;\n",
       "    }\n",
       "\n",
       "    .dataframe thead th {\n",
       "        text-align: right;\n",
       "    }\n",
       "</style>\n",
       "<table border=\"1\" class=\"dataframe\">\n",
       "  <thead>\n",
       "    <tr style=\"text-align: right;\">\n",
       "      <th></th>\n",
       "      <th>question_text</th>\n",
       "      <th>document_title</th>\n",
       "      <th>language</th>\n",
       "      <th>annotations</th>\n",
       "      <th>document_plaintext</th>\n",
       "      <th>document_url</th>\n",
       "      <th>tokens</th>\n",
       "      <th>first_token</th>\n",
       "      <th>last_token</th>\n",
       "      <th>answer_text</th>\n",
       "      <th>answer start</th>\n",
       "      <th>answer_start</th>\n",
       "      <th>answerable</th>\n",
       "      <th>doc_tokens</th>\n",
       "      <th>word_count</th>\n",
       "      <th>word_count_doc</th>\n",
       "      <th>tokens_cleaned</th>\n",
       "    </tr>\n",
       "  </thead>\n",
       "  <tbody>\n",
       "    <tr>\n",
       "      <th>26</th>\n",
       "      <td>When was quantum field theory developed?</td>\n",
       "      <td>Quantum field theory</td>\n",
       "      <td>english</td>\n",
       "      <td>{'answer_start': [159], 'answer_text': ['1920s']}</td>\n",
       "      <td>Quantum field theory naturally began with the ...</td>\n",
       "      <td>https://en.wikipedia.org/wiki/Quantum%20field%...</td>\n",
       "      <td>[When, was, quantum, field, theory, developed, ?]</td>\n",
       "      <td>When</td>\n",
       "      <td>developed</td>\n",
       "      <td>1920s</td>\n",
       "      <td>159</td>\n",
       "      <td>159</td>\n",
       "      <td>1</td>\n",
       "      <td>[Quantum, field, theory, naturally, began, wit...</td>\n",
       "      <td>31</td>\n",
       "      <td>31</td>\n",
       "      <td>[when, was, quantum, field, theory, developed]</td>\n",
       "    </tr>\n",
       "    <tr>\n",
       "      <th>43</th>\n",
       "      <td>Who was the first Nobel prize winner for Liter...</td>\n",
       "      <td>List of Nobel laureates in Literature</td>\n",
       "      <td>english</td>\n",
       "      <td>{'answer_start': [610], 'answer_text': ['Sully...</td>\n",
       "      <td>The Nobel Prize in Literature (Swedish: Nobelp...</td>\n",
       "      <td>https://en.wikipedia.org/wiki/List%20of%20Nobe...</td>\n",
       "      <td>[Who, was, the, first, Nobel, prize, winner, f...</td>\n",
       "      <td>Who</td>\n",
       "      <td>Literature</td>\n",
       "      <td>Sully Prudhomme</td>\n",
       "      <td>610</td>\n",
       "      <td>610</td>\n",
       "      <td>1</td>\n",
       "      <td>[The, Nobel, Prize, in, Literature, (, Swedish...</td>\n",
       "      <td>188</td>\n",
       "      <td>188</td>\n",
       "      <td>[who, was, the, first, nobel, prize, winner, f...</td>\n",
       "    </tr>\n",
       "    <tr>\n",
       "      <th>112</th>\n",
       "      <td>When is the dialectical method used?</td>\n",
       "      <td>Dialectic</td>\n",
       "      <td>english</td>\n",
       "      <td>{'answer_start': [129], 'answer_text': ['disco...</td>\n",
       "      <td>Dialectic or dialectics (Greek: διαλεκτική, di...</td>\n",
       "      <td>https://en.wikipedia.org/wiki/Dialectic</td>\n",
       "      <td>[When, is, the, dialectical, method, used, ?]</td>\n",
       "      <td>When</td>\n",
       "      <td>used</td>\n",
       "      <td>discourse between two or more people holding d...</td>\n",
       "      <td>129</td>\n",
       "      <td>129</td>\n",
       "      <td>1</td>\n",
       "      <td>[Dialectic, or, dialectics, (, Greek, :, διαλε...</td>\n",
       "      <td>113</td>\n",
       "      <td>113</td>\n",
       "      <td>[when, is, the, dialectical, method, used]</td>\n",
       "    </tr>\n",
       "    <tr>\n",
       "      <th>123</th>\n",
       "      <td>Who invented Hangul?</td>\n",
       "      <td>Origin of Hangul</td>\n",
       "      <td>english</td>\n",
       "      <td>{'answer_start': [88], 'answer_text': ['Sejong...</td>\n",
       "      <td>Hangul was personally created and promulgated ...</td>\n",
       "      <td>https://en.wikipedia.org/wiki/Origin%20of%20Ha...</td>\n",
       "      <td>[Who, invented, Hangul, ?]</td>\n",
       "      <td>Who</td>\n",
       "      <td>Hangul</td>\n",
       "      <td>Sejong the Great</td>\n",
       "      <td>88</td>\n",
       "      <td>88</td>\n",
       "      <td>1</td>\n",
       "      <td>[Hangul, was, personally, created, and, promul...</td>\n",
       "      <td>69</td>\n",
       "      <td>69</td>\n",
       "      <td>[who, invented, hangul]</td>\n",
       "    </tr>\n",
       "    <tr>\n",
       "      <th>125</th>\n",
       "      <td>What do Grasshoppers eat?</td>\n",
       "      <td>Grasshopper</td>\n",
       "      <td>english</td>\n",
       "      <td>{'answer_start': [0], 'answer_text': ['Grassho...</td>\n",
       "      <td>Grasshoppers are plant-eaters, with a few spec...</td>\n",
       "      <td>https://en.wikipedia.org/wiki/Grasshopper</td>\n",
       "      <td>[What, do, Grasshoppers, eat, ?]</td>\n",
       "      <td>What</td>\n",
       "      <td>eat</td>\n",
       "      <td>Grasshoppers are plant-eaters, with a few spec...</td>\n",
       "      <td>0</td>\n",
       "      <td>0</td>\n",
       "      <td>1</td>\n",
       "      <td>[Grasshoppers, are, plant-eaters, ,, with, a, ...</td>\n",
       "      <td>125</td>\n",
       "      <td>125</td>\n",
       "      <td>[what, do, grasshoppers, eat]</td>\n",
       "    </tr>\n",
       "  </tbody>\n",
       "</table>\n",
       "</div>"
      ],
      "text/plain": [
       "                                         question_text  \\\n",
       "26            When was quantum field theory developed?   \n",
       "43   Who was the first Nobel prize winner for Liter...   \n",
       "112               When is the dialectical method used?   \n",
       "123                               Who invented Hangul?   \n",
       "125                          What do Grasshoppers eat?   \n",
       "\n",
       "                            document_title language  \\\n",
       "26                    Quantum field theory  english   \n",
       "43   List of Nobel laureates in Literature  english   \n",
       "112                              Dialectic  english   \n",
       "123                       Origin of Hangul  english   \n",
       "125                            Grasshopper  english   \n",
       "\n",
       "                                           annotations  \\\n",
       "26   {'answer_start': [159], 'answer_text': ['1920s']}   \n",
       "43   {'answer_start': [610], 'answer_text': ['Sully...   \n",
       "112  {'answer_start': [129], 'answer_text': ['disco...   \n",
       "123  {'answer_start': [88], 'answer_text': ['Sejong...   \n",
       "125  {'answer_start': [0], 'answer_text': ['Grassho...   \n",
       "\n",
       "                                    document_plaintext  \\\n",
       "26   Quantum field theory naturally began with the ...   \n",
       "43   The Nobel Prize in Literature (Swedish: Nobelp...   \n",
       "112  Dialectic or dialectics (Greek: διαλεκτική, di...   \n",
       "123  Hangul was personally created and promulgated ...   \n",
       "125  Grasshoppers are plant-eaters, with a few spec...   \n",
       "\n",
       "                                          document_url  \\\n",
       "26   https://en.wikipedia.org/wiki/Quantum%20field%...   \n",
       "43   https://en.wikipedia.org/wiki/List%20of%20Nobe...   \n",
       "112            https://en.wikipedia.org/wiki/Dialectic   \n",
       "123  https://en.wikipedia.org/wiki/Origin%20of%20Ha...   \n",
       "125          https://en.wikipedia.org/wiki/Grasshopper   \n",
       "\n",
       "                                                tokens first_token  \\\n",
       "26   [When, was, quantum, field, theory, developed, ?]        When   \n",
       "43   [Who, was, the, first, Nobel, prize, winner, f...         Who   \n",
       "112      [When, is, the, dialectical, method, used, ?]        When   \n",
       "123                         [Who, invented, Hangul, ?]         Who   \n",
       "125                   [What, do, Grasshoppers, eat, ?]        What   \n",
       "\n",
       "     last_token                                        answer_text  \\\n",
       "26    developed                                              1920s   \n",
       "43   Literature                                    Sully Prudhomme   \n",
       "112        used  discourse between two or more people holding d...   \n",
       "123      Hangul                                   Sejong the Great   \n",
       "125         eat  Grasshoppers are plant-eaters, with a few spec...   \n",
       "\n",
       "     answer start  answer_start  answerable  \\\n",
       "26            159           159           1   \n",
       "43            610           610           1   \n",
       "112           129           129           1   \n",
       "123            88            88           1   \n",
       "125             0             0           1   \n",
       "\n",
       "                                            doc_tokens  word_count  \\\n",
       "26   [Quantum, field, theory, naturally, began, wit...          31   \n",
       "43   [The, Nobel, Prize, in, Literature, (, Swedish...         188   \n",
       "112  [Dialectic, or, dialectics, (, Greek, :, διαλε...         113   \n",
       "123  [Hangul, was, personally, created, and, promul...          69   \n",
       "125  [Grasshoppers, are, plant-eaters, ,, with, a, ...         125   \n",
       "\n",
       "     word_count_doc                                     tokens_cleaned  \n",
       "26               31     [when, was, quantum, field, theory, developed]  \n",
       "43              188  [who, was, the, first, nobel, prize, winner, f...  \n",
       "112             113         [when, is, the, dialectical, method, used]  \n",
       "123              69                            [who, invented, hangul]  \n",
       "125             125                      [what, do, grasshoppers, eat]  "
      ]
     },
     "execution_count": 84,
     "metadata": {},
     "output_type": "execute_result"
    }
   ],
   "source": [
    "def make_col_answer(text):\n",
    "    return text['answer_text'][0]\n",
    "\n",
    "def make_col_answer_start(text):\n",
    "    return text['answer_start'][0]\n",
    "\n",
    "df_train_EN['answer_text'] = df_train_EN['annotations'].apply(make_col_answer)\n",
    "df_train_EN['answer_start'] = df_train_EN['annotations'].apply(make_col_answer_start)\n",
    "df_train_EN['answerable'] = df_train_EN['answer_start'].apply(lambda x : 0 if x == -1 else 1)\n",
    "\n",
    "df_train_EN.head()"
   ]
  },
  {
   "cell_type": "code",
   "execution_count": 76,
   "id": "3243f987",
   "metadata": {},
   "outputs": [
    {
     "data": {
      "text/plain": [
       "'Georges Touchard-Lafosse at the age of 17, paid a visit to Madame Dupin in 1797. He later evokes it:[40]'"
      ]
     },
     "execution_count": 76,
     "metadata": {},
     "output_type": "execute_result"
    }
   ],
   "source": [
    "df_train_EN[df_train_EN['answerable'] == 0].iloc[82]['document_plaintext']"
   ]
  },
  {
   "cell_type": "markdown",
   "id": "61501f79",
   "metadata": {},
   "source": [
    "### Data Cleaning"
   ]
  },
  {
   "cell_type": "code",
   "execution_count": 90,
   "id": "f75f23de",
   "metadata": {},
   "outputs": [],
   "source": [
    "tokenize_EN(df_train_EN, 'document_plaintext')"
   ]
  },
  {
   "cell_type": "markdown",
   "id": "e7f88ba6",
   "metadata": {},
   "source": [
    "### Feature Engineering"
   ]
  },
  {
   "cell_type": "code",
   "execution_count": 70,
   "id": "b9f17cd0",
   "metadata": {},
   "outputs": [
    {
     "data": {
      "text/html": [
       "<div>\n",
       "<style scoped>\n",
       "    .dataframe tbody tr th:only-of-type {\n",
       "        vertical-align: middle;\n",
       "    }\n",
       "\n",
       "    .dataframe tbody tr th {\n",
       "        vertical-align: top;\n",
       "    }\n",
       "\n",
       "    .dataframe thead th {\n",
       "        text-align: right;\n",
       "    }\n",
       "</style>\n",
       "<table border=\"1\" class=\"dataframe\">\n",
       "  <thead>\n",
       "    <tr style=\"text-align: right;\">\n",
       "      <th></th>\n",
       "      <th>question_text</th>\n",
       "      <th>document_title</th>\n",
       "      <th>language</th>\n",
       "      <th>annotations</th>\n",
       "      <th>document_plaintext</th>\n",
       "      <th>document_url</th>\n",
       "      <th>tokens</th>\n",
       "      <th>first_token</th>\n",
       "      <th>last_token</th>\n",
       "      <th>answer_text</th>\n",
       "      <th>answer start</th>\n",
       "      <th>answer_start</th>\n",
       "      <th>answerable</th>\n",
       "      <th>doc_tokens</th>\n",
       "      <th>word_count</th>\n",
       "      <th>word_count_doc</th>\n",
       "    </tr>\n",
       "  </thead>\n",
       "  <tbody>\n",
       "    <tr>\n",
       "      <th>26</th>\n",
       "      <td>When was quantum field theory developed?</td>\n",
       "      <td>Quantum field theory</td>\n",
       "      <td>english</td>\n",
       "      <td>{'answer_start': [159], 'answer_text': ['1920s']}</td>\n",
       "      <td>Quantum field theory naturally began with the ...</td>\n",
       "      <td>https://en.wikipedia.org/wiki/Quantum%20field%...</td>\n",
       "      <td>[When, was, quantum, field, theory, developed, ?]</td>\n",
       "      <td>When</td>\n",
       "      <td>developed</td>\n",
       "      <td>1920s</td>\n",
       "      <td>159</td>\n",
       "      <td>159</td>\n",
       "      <td>1</td>\n",
       "      <td>[Quantum, field, theory, naturally, began, wit...</td>\n",
       "      <td>31</td>\n",
       "      <td>31</td>\n",
       "    </tr>\n",
       "    <tr>\n",
       "      <th>43</th>\n",
       "      <td>Who was the first Nobel prize winner for Liter...</td>\n",
       "      <td>List of Nobel laureates in Literature</td>\n",
       "      <td>english</td>\n",
       "      <td>{'answer_start': [610], 'answer_text': ['Sully...</td>\n",
       "      <td>The Nobel Prize in Literature (Swedish: Nobelp...</td>\n",
       "      <td>https://en.wikipedia.org/wiki/List%20of%20Nobe...</td>\n",
       "      <td>[Who, was, the, first, Nobel, prize, winner, f...</td>\n",
       "      <td>Who</td>\n",
       "      <td>Literature</td>\n",
       "      <td>Sully Prudhomme</td>\n",
       "      <td>610</td>\n",
       "      <td>610</td>\n",
       "      <td>1</td>\n",
       "      <td>[The, Nobel, Prize, in, Literature, (, Swedish...</td>\n",
       "      <td>188</td>\n",
       "      <td>188</td>\n",
       "    </tr>\n",
       "    <tr>\n",
       "      <th>112</th>\n",
       "      <td>When is the dialectical method used?</td>\n",
       "      <td>Dialectic</td>\n",
       "      <td>english</td>\n",
       "      <td>{'answer_start': [129], 'answer_text': ['disco...</td>\n",
       "      <td>Dialectic or dialectics (Greek: διαλεκτική, di...</td>\n",
       "      <td>https://en.wikipedia.org/wiki/Dialectic</td>\n",
       "      <td>[When, is, the, dialectical, method, used, ?]</td>\n",
       "      <td>When</td>\n",
       "      <td>used</td>\n",
       "      <td>discourse between two or more people holding d...</td>\n",
       "      <td>129</td>\n",
       "      <td>129</td>\n",
       "      <td>1</td>\n",
       "      <td>[Dialectic, or, dialectics, (, Greek, :, διαλε...</td>\n",
       "      <td>113</td>\n",
       "      <td>113</td>\n",
       "    </tr>\n",
       "    <tr>\n",
       "      <th>123</th>\n",
       "      <td>Who invented Hangul?</td>\n",
       "      <td>Origin of Hangul</td>\n",
       "      <td>english</td>\n",
       "      <td>{'answer_start': [88], 'answer_text': ['Sejong...</td>\n",
       "      <td>Hangul was personally created and promulgated ...</td>\n",
       "      <td>https://en.wikipedia.org/wiki/Origin%20of%20Ha...</td>\n",
       "      <td>[Who, invented, Hangul, ?]</td>\n",
       "      <td>Who</td>\n",
       "      <td>Hangul</td>\n",
       "      <td>Sejong the Great</td>\n",
       "      <td>88</td>\n",
       "      <td>88</td>\n",
       "      <td>1</td>\n",
       "      <td>[Hangul, was, personally, created, and, promul...</td>\n",
       "      <td>69</td>\n",
       "      <td>69</td>\n",
       "    </tr>\n",
       "    <tr>\n",
       "      <th>125</th>\n",
       "      <td>What do Grasshoppers eat?</td>\n",
       "      <td>Grasshopper</td>\n",
       "      <td>english</td>\n",
       "      <td>{'answer_start': [0], 'answer_text': ['Grassho...</td>\n",
       "      <td>Grasshoppers are plant-eaters, with a few spec...</td>\n",
       "      <td>https://en.wikipedia.org/wiki/Grasshopper</td>\n",
       "      <td>[What, do, Grasshoppers, eat, ?]</td>\n",
       "      <td>What</td>\n",
       "      <td>eat</td>\n",
       "      <td>Grasshoppers are plant-eaters, with a few spec...</td>\n",
       "      <td>0</td>\n",
       "      <td>0</td>\n",
       "      <td>1</td>\n",
       "      <td>[Grasshoppers, are, plant-eaters, ,, with, a, ...</td>\n",
       "      <td>125</td>\n",
       "      <td>125</td>\n",
       "    </tr>\n",
       "  </tbody>\n",
       "</table>\n",
       "</div>"
      ],
      "text/plain": [
       "                                         question_text  \\\n",
       "26            When was quantum field theory developed?   \n",
       "43   Who was the first Nobel prize winner for Liter...   \n",
       "112               When is the dialectical method used?   \n",
       "123                               Who invented Hangul?   \n",
       "125                          What do Grasshoppers eat?   \n",
       "\n",
       "                            document_title language  \\\n",
       "26                    Quantum field theory  english   \n",
       "43   List of Nobel laureates in Literature  english   \n",
       "112                              Dialectic  english   \n",
       "123                       Origin of Hangul  english   \n",
       "125                            Grasshopper  english   \n",
       "\n",
       "                                           annotations  \\\n",
       "26   {'answer_start': [159], 'answer_text': ['1920s']}   \n",
       "43   {'answer_start': [610], 'answer_text': ['Sully...   \n",
       "112  {'answer_start': [129], 'answer_text': ['disco...   \n",
       "123  {'answer_start': [88], 'answer_text': ['Sejong...   \n",
       "125  {'answer_start': [0], 'answer_text': ['Grassho...   \n",
       "\n",
       "                                    document_plaintext  \\\n",
       "26   Quantum field theory naturally began with the ...   \n",
       "43   The Nobel Prize in Literature (Swedish: Nobelp...   \n",
       "112  Dialectic or dialectics (Greek: διαλεκτική, di...   \n",
       "123  Hangul was personally created and promulgated ...   \n",
       "125  Grasshoppers are plant-eaters, with a few spec...   \n",
       "\n",
       "                                          document_url  \\\n",
       "26   https://en.wikipedia.org/wiki/Quantum%20field%...   \n",
       "43   https://en.wikipedia.org/wiki/List%20of%20Nobe...   \n",
       "112            https://en.wikipedia.org/wiki/Dialectic   \n",
       "123  https://en.wikipedia.org/wiki/Origin%20of%20Ha...   \n",
       "125          https://en.wikipedia.org/wiki/Grasshopper   \n",
       "\n",
       "                                                tokens first_token  \\\n",
       "26   [When, was, quantum, field, theory, developed, ?]        When   \n",
       "43   [Who, was, the, first, Nobel, prize, winner, f...         Who   \n",
       "112      [When, is, the, dialectical, method, used, ?]        When   \n",
       "123                         [Who, invented, Hangul, ?]         Who   \n",
       "125                   [What, do, Grasshoppers, eat, ?]        What   \n",
       "\n",
       "     last_token                                        answer_text  \\\n",
       "26    developed                                              1920s   \n",
       "43   Literature                                    Sully Prudhomme   \n",
       "112        used  discourse between two or more people holding d...   \n",
       "123      Hangul                                   Sejong the Great   \n",
       "125         eat  Grasshoppers are plant-eaters, with a few spec...   \n",
       "\n",
       "     answer start  answer_start  answerable  \\\n",
       "26            159           159           1   \n",
       "43            610           610           1   \n",
       "112           129           129           1   \n",
       "123            88            88           1   \n",
       "125             0             0           1   \n",
       "\n",
       "                                            doc_tokens  word_count  \\\n",
       "26   [Quantum, field, theory, naturally, began, wit...          31   \n",
       "43   [The, Nobel, Prize, in, Literature, (, Swedish...         188   \n",
       "112  [Dialectic, or, dialectics, (, Greek, :, διαλε...         113   \n",
       "123  [Hangul, was, personally, created, and, promul...          69   \n",
       "125  [Grasshoppers, are, plant-eaters, ,, with, a, ...         125   \n",
       "\n",
       "     word_count_doc  \n",
       "26               31  \n",
       "43              188  \n",
       "112             113  \n",
       "123              69  \n",
       "125             125  "
      ]
     },
     "execution_count": 70,
     "metadata": {},
     "output_type": "execute_result"
    }
   ],
   "source": [
    "def count_words_in_doc(df):\n",
    "    df['doc_tokens'] = df['document_plaintext'].apply(word_tokenize)\n",
    "    df[\"word_count_doc\"] = df['doc_tokens'].str.len()\n",
    "\n",
    "def get_bow(df):\n",
    "    def get_question_vocab():\n",
    "        token_list_temp = df_train_EN.question_texttokens_cleaned.to_list()\n",
    "        return  [item for sublist in token_list_temp for item in sublist]\n",
    "  \n",
    "    vocab = get_question_vocab()\n",
    "    vectorizer = CountVectorizer()\n",
    "    X = vectorizer.fit_transform(vocab)\n",
    "    df['bow_question'] = X.get_feature_names_out(df.question_texttokens_cleaned)\n",
    "\n",
    "def get_overlap(df):\n",
    "    pass\n",
    "\n",
    "def\n",
    "\n",
    "count_words_in_doc(df_train_EN)\n",
    "df_train_EN.head()"
   ]
  },
  {
   "cell_type": "code",
   "execution_count": null,
   "id": "eb3d258a",
   "metadata": {},
   "outputs": [],
   "source": []
  }
 ],
 "metadata": {
  "kernelspec": {
   "display_name": "nlp-venv",
   "language": "python",
   "name": "nlp-venv"
  },
  "language_info": {
   "codemirror_mode": {
    "name": "ipython",
    "version": 3
   },
   "file_extension": ".py",
   "mimetype": "text/x-python",
   "name": "python",
   "nbconvert_exporter": "python",
   "pygments_lexer": "ipython3",
   "version": "3.9.6"
  }
 },
 "nbformat": 4,
 "nbformat_minor": 5
}
